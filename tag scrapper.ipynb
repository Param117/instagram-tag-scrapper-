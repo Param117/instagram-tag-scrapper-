{
 "cells": [
  {
   "cell_type": "code",
   "execution_count": 8,
   "id": "7e17273c-b87f-4059-ae43-def2bb274c76",
   "metadata": {},
   "outputs": [],
   "source": [
    "from selenium import webdriver\n",
    "from selenium.webdriver.common.keys import Keys\n",
    "from selenium.webdriver.support import expected_conditions as EC\n",
    "from selenium.webdriver.common.by import By\n",
    "from selenium.webdriver.support.wait import WebDriverWait\n",
    "from selenium.webdriver.chrome.service import Service"
   ]
  },
  {
   "cell_type": "code",
   "execution_count": 9,
   "id": "fd8823a5-7b8a-4165-a801-abc111196f46",
   "metadata": {},
   "outputs": [],
   "source": [
    "import os\n",
    "import wget\n",
    "import time"
   ]
  },
  {
   "cell_type": "code",
   "execution_count": 10,
   "id": "92294c83-85bc-4e3c-92cc-2db37c5599fe",
   "metadata": {},
   "outputs": [],
   "source": [
    "driver_path = 'PATH'                                      #input path here for the driver\n",
    "service = Service(driver_path)\n",
    "driver = webdriver.Chrome(service=service)\n",
    "\n",
    "\n",
    "driver.get(\"https://www.instagram.com\")"
   ]
  },
  {
   "cell_type": "code",
   "execution_count": 11,
   "id": "b4305658-4638-44d1-97e9-41134b652cdc",
   "metadata": {},
   "outputs": [],
   "source": [
    "username = WebDriverWait(driver, 10).until(EC.element_to_be_clickable((By.CSS_SELECTOR, \"input[name='username']\")))\n",
    "password = WebDriverWait(driver, 10).until(EC.element_to_be_clickable((By.CSS_SELECTOR, \"input[name='password']\")))"
   ]
  },
  {
   "cell_type": "code",
   "execution_count": 12,
   "id": "84bf9a0f-dff6-4434-a0ff-198985cdb2f4",
   "metadata": {},
   "outputs": [],
   "source": [
    "username.clear()\n",
    "username.send_keys(\"\")                 # input username between brackets(paranthesis)\n",
    "password.clear()\n",
    "password.send_keys(\"\")                 # input password between brackets(paranthesis)\n",
    "\n",
    "button = WebDriverWait(driver, 2).until(EC.element_to_be_clickable((By.CSS_SELECTOR, \"button[type='submit']\"))).click()"
   ]
  },
  {
   "cell_type": "code",
   "execution_count": 14,
   "id": "8a7e08e0-098b-4d9d-9e4c-6ec6f4ae233f",
   "metadata": {},
   "outputs": [],
   "source": [
    "time.sleep(5)\n",
    "css_button = WebDriverWait(driver, 2).until(\n",
    "    EC.element_to_be_clickable((By.CSS_SELECTOR, \"div.x1i10hfl.xjqpnuy.xa49m3k.xqeqjp1.x2hbi6w.xdl72j9.x2lah0s.xe8uvvx.xdj266r.x11i5rnm.xat24cr.x1mh8g0r.x2lwn1j.xeuugli.x1hl2dhg.xggy1nq.x1ja2u2z.x1t137rt.x1q0g3np.x1lku1pv.x1a2a7pz.x6s0dn4.xjyslct.x1ejq31n.xd10rxx.x1sy0etr.x17r0tee.x9f619.x1ypdohk.x1f6kntn.xwhw2v2.xl56j7k.x17ydfre.x2b8uid.xlyipyv.x87ps6o.x14atkfc.xcdnw81.x1i0vuye.xjbqb8w.xm3z3ea.x1x8b98j.x131883w.x16mih1h.x972fbf.xcfux6l.x1qhh985.xm0m39n.xt0psk2.xt7dq6l.xexx8yu.x4uap5.x18d9i69.xkhd6sd.x1n2onr6.x1n5bzlp.x173jzuc.x1yc6y37\"))\n",
    ").click()\n"
   ]
  },
  {
   "cell_type": "code",
   "execution_count": 15,
   "id": "f7cedb65-d69b-4530-947b-276f65ac112e",
   "metadata": {},
   "outputs": [],
   "source": [
    "time.sleep(5)\n",
    "css_button = WebDriverWait(driver, 2).until(\n",
    "    EC.element_to_be_clickable((By.CSS_SELECTOR, \"button._a9--._ap36._a9_1\"))\n",
    ").click()\n"
   ]
  },
  {
   "cell_type": "code",
   "execution_count": 16,
   "id": "82b9d546-700e-47cf-b06d-04a79df131cb",
   "metadata": {},
   "outputs": [
    {
     "name": "stdout",
     "output_type": "stream",
     "text": [
      " cristiano\n"
     ]
    }
   ],
   "source": [
    "\n",
    "\n",
    "keyword = input()\n",
    "driver.get(\"https://www.instagram.com/explore/tags/\" + keyword + \"/\")\n",
    " \n",
    "# Wait for 5 seconds\n",
    "time.sleep(5)"
   ]
  },
  {
   "cell_type": "code",
   "execution_count": 17,
   "id": "4a60de79-74fa-4685-a840-bb2b247a4568",
   "metadata": {},
   "outputs": [],
   "source": [
    "div_button = WebDriverWait(driver, 2).until( EC.element_to_be_clickable((By.CSS_SELECTOR, \"div._aagw\"))).click()"
   ]
  },
  {
   "cell_type": "code",
   "execution_count": 18,
   "id": "f2395108-33d3-4ce4-8fe4-2b357093c2d0",
   "metadata": {},
   "outputs": [
    {
     "name": "stdout",
     "output_type": "stream",
     "text": [
      "Clicked 'Next' button\n",
      "Usernames elements located\n",
      "Number of scraped usernames: 1\n",
      "Usernames appended to C:\\Users\\dudej\\Downloads\\usernames.txt\n",
      "Clicked 'Next' button\n",
      "Usernames elements located\n",
      "Number of scraped usernames: 1\n",
      "Usernames appended to C:\\Users\\dudej\\Downloads\\usernames.txt\n",
      "Clicked 'Next' button\n",
      "Usernames elements located\n",
      "Number of scraped usernames: 1\n",
      "Usernames appended to C:\\Users\\dudej\\Downloads\\usernames.txt\n",
      "Clicked 'Next' button\n",
      "Usernames elements located\n",
      "Number of scraped usernames: 1\n",
      "Usernames appended to C:\\Users\\dudej\\Downloads\\usernames.txt\n",
      "Clicked 'Next' button\n",
      "Usernames elements located\n",
      "Number of scraped usernames: 1\n",
      "Usernames appended to C:\\Users\\dudej\\Downloads\\usernames.txt\n",
      "Clicked 'Next' button\n",
      "Usernames elements located\n",
      "Number of scraped usernames: 1\n",
      "Usernames appended to C:\\Users\\dudej\\Downloads\\usernames.txt\n",
      "Clicked 'Next' button\n",
      "Usernames elements located\n",
      "Number of scraped usernames: 1\n",
      "Usernames appended to C:\\Users\\dudej\\Downloads\\usernames.txt\n",
      "Clicked 'Next' button\n",
      "Usernames elements located\n",
      "Number of scraped usernames: 1\n",
      "Usernames appended to C:\\Users\\dudej\\Downloads\\usernames.txt\n",
      "Clicked 'Next' button\n",
      "Usernames elements located\n",
      "Number of scraped usernames: 1\n",
      "Usernames appended to C:\\Users\\dudej\\Downloads\\usernames.txt\n",
      "Clicked 'Next' button\n",
      "Usernames elements located\n",
      "Number of scraped usernames: 1\n",
      "Usernames appended to C:\\Users\\dudej\\Downloads\\usernames.txt\n",
      "Clicked 'Next' button\n",
      "Usernames elements located\n",
      "Number of scraped usernames: 1\n",
      "Usernames appended to C:\\Users\\dudej\\Downloads\\usernames.txt\n",
      "Clicked 'Next' button\n",
      "Usernames elements located\n",
      "Number of scraped usernames: 1\n",
      "Usernames appended to C:\\Users\\dudej\\Downloads\\usernames.txt\n",
      "Clicked 'Next' button\n",
      "Usernames elements located\n",
      "Number of scraped usernames: 1\n",
      "Usernames appended to C:\\Users\\dudej\\Downloads\\usernames.txt\n",
      "Clicked 'Next' button\n",
      "Usernames elements located\n",
      "Number of scraped usernames: 1\n",
      "Usernames appended to C:\\Users\\dudej\\Downloads\\usernames.txt\n",
      "Clicked 'Next' button\n",
      "Usernames elements located\n",
      "Number of scraped usernames: 1\n",
      "Usernames appended to C:\\Users\\dudej\\Downloads\\usernames.txt\n",
      "Clicked 'Next' button\n",
      "Usernames elements located\n",
      "Number of scraped usernames: 1\n",
      "Usernames appended to C:\\Users\\dudej\\Downloads\\usernames.txt\n",
      "Clicked 'Next' button\n",
      "Usernames elements located\n",
      "Number of scraped usernames: 1\n",
      "Usernames appended to C:\\Users\\dudej\\Downloads\\usernames.txt\n",
      "Clicked 'Next' button\n",
      "Usernames elements located\n",
      "Number of scraped usernames: 1\n",
      "Usernames appended to C:\\Users\\dudej\\Downloads\\usernames.txt\n",
      "Clicked 'Next' button\n",
      "Usernames elements located\n",
      "Number of scraped usernames: 1\n",
      "Usernames appended to C:\\Users\\dudej\\Downloads\\usernames.txt\n",
      "Clicked 'Next' button\n",
      "Usernames elements located\n",
      "Number of scraped usernames: 1\n",
      "Usernames appended to C:\\Users\\dudej\\Downloads\\usernames.txt\n",
      "Clicked 'Next' button\n",
      "Usernames elements located\n",
      "Number of scraped usernames: 1\n",
      "Usernames appended to C:\\Users\\dudej\\Downloads\\usernames.txt\n",
      "Clicked 'Next' button\n",
      "Usernames elements located\n",
      "Number of scraped usernames: 1\n",
      "Usernames appended to C:\\Users\\dudej\\Downloads\\usernames.txt\n"
     ]
    },
    {
     "ename": "NameError",
     "evalue": "name 'TimeoutException' is not defined",
     "output_type": "error",
     "traceback": [
      "\u001b[1;31m---------------------------------------------------------------------------\u001b[0m",
      "\u001b[1;31mKeyboardInterrupt\u001b[0m                         Traceback (most recent call last)",
      "Cell \u001b[1;32mIn[18], line 4\u001b[0m, in \u001b[0;36mscrape_and_append_usernames\u001b[1;34m()\u001b[0m\n\u001b[0;32m      2\u001b[0m \u001b[38;5;28;01mtry\u001b[39;00m:\n\u001b[1;32m----> 4\u001b[0m     svg_button \u001b[38;5;241m=\u001b[39m WebDriverWait(driver, \u001b[38;5;241m10\u001b[39m)\u001b[38;5;241m.\u001b[39muntil(\n\u001b[0;32m      5\u001b[0m         EC\u001b[38;5;241m.\u001b[39melement_to_be_clickable((By\u001b[38;5;241m.\u001b[39mCSS_SELECTOR, \u001b[38;5;124m\"\u001b[39m\u001b[38;5;124msvg[aria-label=\u001b[39m\u001b[38;5;124m'\u001b[39m\u001b[38;5;124mNext\u001b[39m\u001b[38;5;124m'\u001b[39m\u001b[38;5;124m]\u001b[39m\u001b[38;5;124m\"\u001b[39m))\n\u001b[0;32m      6\u001b[0m     )\n\u001b[0;32m      7\u001b[0m     svg_button\u001b[38;5;241m.\u001b[39mclick()\n",
      "File \u001b[1;32m~\\anaconda3\\Lib\\site-packages\\selenium\\webdriver\\support\\wait.py:102\u001b[0m, in \u001b[0;36mWebDriverWait.until\u001b[1;34m(self, method, message)\u001b[0m\n\u001b[0;32m    101\u001b[0m     stacktrace \u001b[38;5;241m=\u001b[39m \u001b[38;5;28mgetattr\u001b[39m(exc, \u001b[38;5;124m\"\u001b[39m\u001b[38;5;124mstacktrace\u001b[39m\u001b[38;5;124m\"\u001b[39m, \u001b[38;5;28;01mNone\u001b[39;00m)\n\u001b[1;32m--> 102\u001b[0m time\u001b[38;5;241m.\u001b[39msleep(\u001b[38;5;28mself\u001b[39m\u001b[38;5;241m.\u001b[39m_poll)\n\u001b[0;32m    103\u001b[0m \u001b[38;5;28;01mif\u001b[39;00m time\u001b[38;5;241m.\u001b[39mmonotonic() \u001b[38;5;241m>\u001b[39m end_time:\n",
      "\u001b[1;31mKeyboardInterrupt\u001b[0m: ",
      "\nDuring handling of the above exception, another exception occurred:\n",
      "\u001b[1;31mNameError\u001b[0m                                 Traceback (most recent call last)",
      "Cell \u001b[1;32mIn[18], line 35\u001b[0m\n\u001b[0;32m     32\u001b[0m number_of_iterations \u001b[38;5;241m=\u001b[39m \u001b[38;5;241m100000\u001b[39m\n\u001b[0;32m     34\u001b[0m \u001b[38;5;28;01mfor\u001b[39;00m _ \u001b[38;5;129;01min\u001b[39;00m \u001b[38;5;28mrange\u001b[39m(number_of_iterations):\n\u001b[1;32m---> 35\u001b[0m     scrape_and_append_usernames()\n",
      "Cell \u001b[1;32mIn[18], line 28\u001b[0m, in \u001b[0;36mscrape_and_append_usernames\u001b[1;34m()\u001b[0m\n\u001b[0;32m     25\u001b[0m             f\u001b[38;5;241m.\u001b[39mwrite(username \u001b[38;5;241m+\u001b[39m \u001b[38;5;124m\"\u001b[39m\u001b[38;5;130;01m\\n\u001b[39;00m\u001b[38;5;124m\"\u001b[39m)\n\u001b[0;32m     26\u001b[0m     \u001b[38;5;28mprint\u001b[39m(\u001b[38;5;124mf\u001b[39m\u001b[38;5;124m\"\u001b[39m\u001b[38;5;124mUsernames appended to \u001b[39m\u001b[38;5;132;01m{\u001b[39;00mfile_path\u001b[38;5;132;01m}\u001b[39;00m\u001b[38;5;124m\"\u001b[39m)\n\u001b[1;32m---> 28\u001b[0m \u001b[38;5;28;01mexcept\u001b[39;00m TimeoutException \u001b[38;5;28;01mas\u001b[39;00m e:\n\u001b[0;32m     29\u001b[0m     \u001b[38;5;28mprint\u001b[39m(\u001b[38;5;124mf\u001b[39m\u001b[38;5;124m\"\u001b[39m\u001b[38;5;124mTimeoutException: \u001b[39m\u001b[38;5;132;01m{\u001b[39;00me\u001b[38;5;132;01m}\u001b[39;00m\u001b[38;5;124m\"\u001b[39m)\n",
      "\u001b[1;31mNameError\u001b[0m: name 'TimeoutException' is not defined"
     ]
    }
   ],
   "source": [
    "\n",
    "def scrape_and_append_usernames():\n",
    "    try:\n",
    "       \n",
    "        svg_button = WebDriverWait(driver, 10).until(\n",
    "            EC.element_to_be_clickable((By.CSS_SELECTOR, \"svg[aria-label='Next']\"))\n",
    "        )\n",
    "        svg_button.click()\n",
    "        print(\"Clicked 'Next' button\")\n",
    "\n",
    "        wait = WebDriverWait(driver, 10)\n",
    "        usernames_elements = wait.until(\n",
    "            EC.presence_of_all_elements_located(\n",
    "                (By.XPATH, \"/html/body/div[6]/div[1]/div/div[3]/div/div/div/div/div[2]/div/article/div/div[2]/div/div/div[1]/div/header/div[2]/div[1]/div[1]/div/div/span/span/div/a\")\n",
    "            )\n",
    "        )\n",
    "        print(\"Usernames elements located\")\n",
    "        \n",
    "        usernames = [username.text for username in usernames_elements]\n",
    "        print('Number of scraped usernames:', len(usernames))\n",
    "\n",
    "        path = r'path of saved file'                                    # specify path where you need to save your file\n",
    "        file_path = os.path.join(path, 'usernames.txt')\n",
    "        with open(file_path, 'a') as f:  # Open file in append mode\n",
    "            for username in usernames:\n",
    "                f.write(username + \"\\n\")\n",
    "        print(f\"Usernames appended to {file_path}\")\n",
    "\n",
    "    except TimeoutException as e:\n",
    "        print(f\"TimeoutException: {e}\")\n",
    "\n",
    "\n",
    "number_of_iterations = 100000\n",
    "\n",
    "for _ in range(number_of_iterations):\n",
    "    scrape_and_append_usernames()\n"
   ]
  }
 ],
 "metadata": {
  "kernelspec": {
   "display_name": "Python 3 (ipykernel)",
   "language": "python",
   "name": "python3"
  },
  "language_info": {
   "codemirror_mode": {
    "name": "ipython",
    "version": 3
   },
   "file_extension": ".py",
   "mimetype": "text/x-python",
   "name": "python",
   "nbconvert_exporter": "python",
   "pygments_lexer": "ipython3",
   "version": "3.11.7"
  }
 },
 "nbformat": 4,
 "nbformat_minor": 5
}
